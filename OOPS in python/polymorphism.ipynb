{
 "cells": [
  {
   "cell_type": "markdown",
   "metadata": {},
   "source": [
    "#### polymorphism\n",
    "\n",
    "![image.png](attachment:image.png)\n",
    "\n",
    "\n",
    "* -> Duck Typing\n",
    "* -> Operator Overloading\n",
    "* -> Method Overloading\n",
    "* -> Method Overriding\n"
   ]
  },
  {
   "cell_type": "code",
   "execution_count": null,
   "metadata": {},
   "outputs": [
    {
     "name": "stdout",
     "output_type": "stream",
     "text": [
      "using the WA keyboard\n",
      "text, video, photo sent WA\n",
      "text, video, photo received WA\n",
      "using the FB keyboard\n",
      "text, video, photo sent FB\n",
      "text, video, photo received FB\n",
      "using the insta keyboard\n",
      "text, video, photo sent insta\n",
      "text, video, photo received insta\n"
     ]
    }
   ],
   "source": [
    "# without polymorphism\n",
    "\n",
    "class messenger:\n",
    "    \n",
    "    def use_keyboard(self):\n",
    "        print('using the kwyboard')\n",
    "    def send_message(self):\n",
    "        print('msg  send done')\n",
    "    def receive_message(self):\n",
    "        print('msg received ')\n",
    "    \n",
    "class whatsappmessenger(messenger):\n",
    "    def use_keyboard(self):\n",
    "        print('using the WA keyboard')\n",
    "    def send_message(self):\n",
    "        print('text, video, photo sent WA')\n",
    "    def receive_message(self):\n",
    "        print('text, video, photo received WA')\n",
    "        \n",
    "class facebookmessenger(messenger):\n",
    "    def use_keyboard(self):\n",
    "        print('using the FB keyboard')\n",
    "    def send_message(self):\n",
    "        print('text, video, photo sent FB')\n",
    "    def receive_message(self):\n",
    "        print('text, video, photo received FB')\n",
    "        \n",
    "class instamessenger(messenger):\n",
    "    def use_keyboard(self):\n",
    "        print('using the insta keyboard')\n",
    "    def send_message(self):\n",
    "        print('text, video, photo sent insta')\n",
    "    def receive_message(self):\n",
    "        print('text, video, photo received insta')\n",
    "        \n",
    "        \n",
    "wa =whatsappmessenger()\n",
    "wa.use_keyboard()\n",
    "wa.send_message()\n",
    "wa.receive_message()\n",
    "\n",
    "\n",
    "fb = facebookmessenger()\n",
    "fb.use_keyboard()\n",
    "fb.send_message()\n",
    "fb.receive_message()\n",
    "\n",
    "ins = instamessenger()\n",
    "ins.use_keyboard()\n",
    "ins.send_message()\n",
    "ins.receive_message()"
   ]
  },
  {
   "cell_type": "code",
   "execution_count": null,
   "metadata": {},
   "outputs": [
    {
     "name": "stdout",
     "output_type": "stream",
     "text": [
      "using the WA keyboard\n",
      "text, video, photo sent WA\n",
      "text, video, photo received WA\n",
      "using the FB keyboard\n",
      "text, video, photo sent FB\n",
      "text, video, photo received FB\n",
      "using the insta keyboard\n",
      "text, video, photo sent insta\n",
      "text, video, photo received insta\n"
     ]
    }
   ],
   "source": [
    "# with polymorphsim\n",
    "class messenger:\n",
    "    \n",
    "    def use_keyboard(self):\n",
    "        print('using the kwyboard')\n",
    "    def send_message(self):\n",
    "        print('msg  send done')\n",
    "    def receive_message(self):\n",
    "        print('msg received ')\n",
    "    \n",
    "class whatsappmessenger(messenger):\n",
    "    def use_keyboard(self):\n",
    "        print('using the WA keyboard')\n",
    "    def send_message(self):\n",
    "        print('text, video, photo sent WA')\n",
    "    def receive_message(self):\n",
    "        print('text, video, photo received WA')\n",
    "        \n",
    "class facebookmessenger(messenger):\n",
    "    def use_keyboard(self):\n",
    "        print('using the FB keyboard')\n",
    "    def send_message(self):\n",
    "        print('text, video, photo sent FB')\n",
    "    def receive_message(self):\n",
    "        print('text, video, photo received FB')\n",
    "        \n",
    "class instamessenger(messenger):\n",
    "    def use_keyboard(self):\n",
    "        print('using the insta keyboard')\n",
    "    def send_message(self):\n",
    "        print('text, video, photo sent insta')\n",
    "    def receive_message(self):\n",
    "        print('text, video, photo received insta')\n",
    "        \n",
    "        \n",
    "# we are creating the fun() to achive the polymorphisam \n",
    "def main(ref):  \n",
    "    ref.use_keyboard()\n",
    "    ref.send_message()\n",
    "    ref.receive_message()        \n",
    "\n",
    "wa =whatsappmessenger()\n",
    "fb = facebookmessenger()\n",
    "ins = instamessenger()\n",
    "\n",
    "if __name__=='__main__':\n",
    "    main(wa)\n",
    "    main(fb)\n",
    "    main(ins)\n"
   ]
  },
  {
   "cell_type": "markdown",
   "metadata": {},
   "source": [
    "#### DUCK Typing\n",
    "\n",
    "![image.png](attachment:image.png)\n",
    "\n",
    "\n",
    "* -> duck typing allows to work with any object regardless of its type"
   ]
  },
  {
   "cell_type": "code",
   "execution_count": null,
   "metadata": {},
   "outputs": [
    {
     "name": "stdout",
     "output_type": "stream",
     "text": [
      "8\n",
      "hellosrikanth\n",
      "[1, 2, 2, 3]\n"
     ]
    }
   ],
   "source": [
    "def add(a,b):\n",
    "    return a+b\n",
    "\n",
    "# addition\n",
    "print(add(3,5)) # integer\n",
    "# concat\n",
    "print(add('hello','srikanth')) # string\n",
    "\n",
    "print(add([1,2,],[2,3])) # list concat"
   ]
  },
  {
   "cell_type": "code",
   "execution_count": 8,
   "metadata": {},
   "outputs": [
    {
     "name": "stdout",
     "output_type": "stream",
     "text": [
      "using the WA keyboard\n",
      "text, video, photo sent WA\n",
      "text, video, photo received WA\n",
      "LIVE LOCATION IS SEND\n",
      "using the FB keyboard\n",
      "text, video, photo sent FB\n",
      "text, video, photo received FB\n",
      "USING THE BUILTIN APPS\n",
      "using the insta keyboard\n",
      "text, video, photo sent insta\n",
      "text, video, photo received insta\n",
      "ADDING THE FILTERS\n"
     ]
    }
   ],
   "source": [
    "class messenger:\n",
    "    \n",
    "    def use_keyboard(self):\n",
    "        print('using the kwyboard')\n",
    "    def send_message(self):\n",
    "        print('msg  send done')\n",
    "    def receive_message(self):\n",
    "        print('msg received ')\n",
    "    \n",
    "class whatsappmessenger(messenger):\n",
    "    def use_keyboard(self):\n",
    "        print('using the WA keyboard')\n",
    "    def send_message(self):\n",
    "        print('text, video, photo sent WA')\n",
    "    def receive_message(self):\n",
    "        print('text, video, photo received WA')\n",
    "    def send_live_loction(self):\n",
    "        print(\"LIVE LOCATION IS SEND\")\n",
    "        \n",
    "class facebookmessenger(messenger):\n",
    "    def use_keyboard(self):\n",
    "        print('using the FB keyboard')\n",
    "    def send_message(self):\n",
    "        print('text, video, photo sent FB')\n",
    "    def receive_message(self):\n",
    "        print('text, video, photo received FB')\n",
    "    def use_bulitin_apps(self):\n",
    "        print('USING THE BUILTIN APPS')\n",
    "        \n",
    "class instamessenger(messenger):\n",
    "    def use_keyboard(self):\n",
    "        print('using the insta keyboard')\n",
    "    def send_message(self):\n",
    "        print('text, video, photo sent insta')\n",
    "    def receive_message(self):\n",
    "        print('text, video, photo received insta')\n",
    "    def add_filters(self):\n",
    "        print('ADDING THE FILTERS')\n",
    "        \n",
    "        \n",
    "def main(ref):\n",
    "    ref.use_keyboard()\n",
    "    ref.send_message()\n",
    "    ref.receive_message()  \n",
    "    if type(ref)== whatsappmessenger: # its works on only the whatss\n",
    "        ref.send_live_loction()      \n",
    "    if type(ref)==facebookmessenger:# its works only for fackbbok\n",
    "        ref.use_bulitin_apps()\n",
    "    if type(ref) ==instamessenger:# its works only insta\n",
    "        ref.add_filters()\n",
    "\n",
    "wa =whatsappmessenger()\n",
    "fb = facebookmessenger()\n",
    "ins = instamessenger()\n",
    "\n",
    "\n",
    "if __name__=='__main__':\n",
    "    main(wa)\n",
    "    main(fb)\n",
    "    main(ins)\n"
   ]
  },
  {
   "cell_type": "markdown",
   "metadata": {},
   "source": [
    "#### Dunder Methods or Magic methods\n",
    "\n",
    "![image.png](attachment:image.png)\n",
    "\n",
    "* Operator Overloading\n",
    "-> Here '+' in internaly **__add__** that can be the **add numbers and floats same '+' can concatenate two strings** we can achives the ploymorphisam \n",
    "* In the operator overloading + behaves like addition , concatenation or merging "
   ]
  },
  {
   "cell_type": "code",
   "execution_count": null,
   "metadata": {},
   "outputs": [
    {
     "name": "stdout",
     "output_type": "stream",
     "text": [
      "8\n",
      "hello srikanth\n",
      "[1, 2, 3, 4, 5, 6]\n"
     ]
    }
   ],
   "source": [
    "print(3+5) # integer\n",
    "print(\"hello\",\"srikanth\") # string concat\n",
    "print([1,2,3,]+[4,5,6]) # list concat"
   ]
  },
  {
   "cell_type": "code",
   "execution_count": 4,
   "metadata": {},
   "outputs": [
    {
     "name": "stdout",
     "output_type": "stream",
     "text": [
      "5\n",
      "10\n",
      "15\n"
     ]
    }
   ],
   "source": [
    "def main():\n",
    "    a =5\n",
    "    print(a)\n",
    "    a =a +5 # adds 5  a =10\n",
    "    # a.__add__(5) in internaly change\n",
    "    print(a)\n",
    "    a=a.__add__(5) \n",
    "    print(a) # adds 5 a=15 int __add__\n",
    "main()\n",
    "\n",
    "# here \n"
   ]
  },
  {
   "cell_type": "code",
   "execution_count": 5,
   "metadata": {},
   "outputs": [
    {
     "data": {
      "text/plain": [
       "'sreekanth'"
      ]
     },
     "execution_count": 5,
     "metadata": {},
     "output_type": "execute_result"
    }
   ],
   "source": [
    "s = 'sree'\n",
    "s1 =s.__add__('kanth') # its a string __add__\n",
    "s1"
   ]
  },
  {
   "cell_type": "code",
   "execution_count": 6,
   "metadata": {},
   "outputs": [
    {
     "ename": "TypeError",
     "evalue": "unsupported operand type(s) for +: 'point' and 'point'",
     "output_type": "error",
     "traceback": [
      "\u001b[1;31m---------------------------------------------------------------------------\u001b[0m",
      "\u001b[1;31mTypeError\u001b[0m                                 Traceback (most recent call last)",
      "Cell \u001b[1;32mIn[6], line 13\u001b[0m\n\u001b[0;32m     11\u001b[0m     p2 \u001b[38;5;241m=\u001b[39mpoint(\u001b[38;5;241m1\u001b[39m,\u001b[38;5;241m5\u001b[39m)\n\u001b[0;32m     12\u001b[0m     p3 \u001b[38;5;241m=\u001b[39mp1\u001b[38;5;241m+\u001b[39mp2\n\u001b[1;32m---> 13\u001b[0m \u001b[43mmain\u001b[49m\u001b[43m(\u001b[49m\u001b[43m)\u001b[49m\n",
      "Cell \u001b[1;32mIn[6], line 12\u001b[0m, in \u001b[0;36mmain\u001b[1;34m()\u001b[0m\n\u001b[0;32m     10\u001b[0m p1 \u001b[38;5;241m=\u001b[39mpoint(\u001b[38;5;241m1\u001b[39m,\u001b[38;5;241m2\u001b[39m)\n\u001b[0;32m     11\u001b[0m p2 \u001b[38;5;241m=\u001b[39mpoint(\u001b[38;5;241m1\u001b[39m,\u001b[38;5;241m5\u001b[39m)\n\u001b[1;32m---> 12\u001b[0m p3 \u001b[38;5;241m=\u001b[39m\u001b[43mp1\u001b[49m\u001b[38;5;241;43m+\u001b[39;49m\u001b[43mp2\u001b[49m\n",
      "\u001b[1;31mTypeError\u001b[0m: unsupported operand type(s) for +: 'point' and 'point'"
     ]
    }
   ],
   "source": [
    "class point:\n",
    "    def __init__(self,x,y):\n",
    "        self.x=x\n",
    "        self.y=y\n",
    "        \n",
    "    def display(self):\n",
    "        print(self.__dict__)\n",
    "        \n",
    "def main():\n",
    "    p1 =point(1,2)\n",
    "    p2 =point(1,5)\n",
    "    p3 =p1+p2\n",
    "main()"
   ]
  },
  {
   "cell_type": "code",
   "execution_count": 8,
   "metadata": {},
   "outputs": [
    {
     "name": "stdout",
     "output_type": "stream",
     "text": [
      "{'x': 2, 'y': 7}\n"
     ]
    }
   ],
   "source": [
    "class point:\n",
    "    def __init__(self,x,y):\n",
    "        self.x=x\n",
    "        self.y=y\n",
    "    def __add__(self,other):\n",
    "        return point(self.x+other.x,self.y+other.y)\n",
    "        \n",
    "    def display(self):\n",
    "        print(self.__dict__)\n",
    "        \n",
    "def main():\n",
    "    p1 =point(1,2)\n",
    "    p2 =point(1,5)\n",
    "    p3 =p1+p2\n",
    "    p3.display()\n",
    "main()"
   ]
  },
  {
   "cell_type": "markdown",
   "metadata": {},
   "source": [
    "* method overloading and operator overloading ,where multiple functions or operators can share the same name but perform different tasks"
   ]
  },
  {
   "cell_type": "code",
   "execution_count": null,
   "metadata": {},
   "outputs": [
    {
     "name": "stdout",
     "output_type": "stream",
     "text": [
      "6\n"
     ]
    },
    {
     "ename": "TypeError",
     "evalue": "product() missing 1 required positional argument: 'c'",
     "output_type": "error",
     "traceback": [
      "\u001b[1;31m---------------------------------------------------------------------------\u001b[0m",
      "\u001b[1;31mTypeError\u001b[0m                                 Traceback (most recent call last)",
      "Cell \u001b[1;32mIn[12], line 11\u001b[0m\n\u001b[0;32m      8\u001b[0m     \u001b[38;5;28mprint\u001b[39m(d)\n\u001b[0;32m     10\u001b[0m product(\u001b[38;5;241m1\u001b[39m,\u001b[38;5;241m2\u001b[39m,\u001b[38;5;241m3\u001b[39m)\n\u001b[1;32m---> 11\u001b[0m \u001b[43mproduct\u001b[49m\u001b[43m(\u001b[49m\u001b[43ma\u001b[49m\u001b[38;5;241;43m=\u001b[39;49m\u001b[38;5;241;43m4\u001b[39;49m\u001b[43m,\u001b[49m\u001b[43mb\u001b[49m\u001b[38;5;241;43m=\u001b[39;49m\u001b[38;5;241;43m6\u001b[39;49m\u001b[43m)\u001b[49m\n",
      "\u001b[1;31mTypeError\u001b[0m: product() missing 1 required positional argument: 'c'"
     ]
    }
   ],
   "source": [
    "# first product method\n",
    "# takes 2 argumenthod and print\n",
    "# product\n",
    "\n",
    "def product(a,b):\n",
    "    c = a+b\n",
    "    print(c)\n",
    "    \n",
    "# seconft product method\n",
    "# takes 3 argumenthod and print\n",
    "# product#    \n",
    "    \n",
    "def product(a,b,c):\n",
    "    d = a+b+c\n",
    "    print(d)\n",
    "\n",
    "\n",
    "product(a=4,b=6)\n",
    "# uncommenting the  below line shows an error \n",
    "# line will call the second product method\n",
    "product(1,2,3)\n"
   ]
  },
  {
   "cell_type": "code",
   "execution_count": null,
   "metadata": {},
   "outputs": [],
   "source": [
    "# Function to take multiple arguments\n",
    "def add(datatype, *args):\n",
    "\n",
    "    # if datatype is int\n",
    "    # initialize answer as 0\n",
    "    if datatype == 'int':\n",
    "        answer = 0\n",
    "\n",
    "    # if datatype is str\n",
    "    # initialize answer as ''\n",
    "    if datatype == 'str':\n",
    "        answer = ''\n",
    "\n",
    "    # Traverse through the arguments\n",
    "    for x in args:\n",
    "\n",
    "        # This will do addition if the\n",
    "        # arguments are int. Or concatenation\n",
    "        # if the arguments are str\n",
    "        answer = answer + x\n",
    "\n",
    "    print(answer)\n",
    "\n",
    "\n",
    "# Integer\n",
    "add('int', 5, 6)\n",
    "\n",
    "# String\n",
    "add('str', 'Hi ', 'Geeks')\n"
   ]
  },
  {
   "cell_type": "code",
   "execution_count": null,
   "metadata": {},
   "outputs": [],
   "source": [
    "# Function to take multiple arguments\n",
    "def add(datatype, *args):\n",
    "\n",
    "    # if datatype is int\n",
    "    # initialize answer as 0\n",
    "    if datatype == 'int':\n",
    "        answer = 0\n",
    "\n",
    "    # if datatype is str\n",
    "    # initialize answer as ''\n",
    "    if datatype == 'str':\n",
    "        answer = ''\n",
    "\n",
    "    # Traverse through the arguments\n",
    "    for x in args:\n",
    "\n",
    "        # This will do addition if the\n",
    "        # arguments are int. Or concatenation\n",
    "        # if the arguments are str\n",
    "        answer = answer + x\n",
    "\n",
    "    print(answer)\n",
    "\n",
    "\n",
    "# Integer\n",
    "add('int', 5, 6)\n",
    "\n",
    "# String\n",
    "add('str', 'Hi ', 'Geeks')\n"
   ]
  },
  {
   "cell_type": "code",
   "execution_count": 14,
   "metadata": {},
   "outputs": [
    {
     "ename": "ModuleNotFoundError",
     "evalue": "No module named 'multipledispatch'",
     "output_type": "error",
     "traceback": [
      "\u001b[1;31m---------------------------------------------------------------------------\u001b[0m",
      "\u001b[1;31mModuleNotFoundError\u001b[0m                       Traceback (most recent call last)",
      "Cell \u001b[1;32mIn[14], line 1\u001b[0m\n\u001b[1;32m----> 1\u001b[0m \u001b[38;5;28;01mfrom\u001b[39;00m \u001b[38;5;21;01mmultipledispatch\u001b[39;00m \u001b[38;5;28;01mimport\u001b[39;00m dispatch\n\u001b[0;32m      3\u001b[0m \u001b[38;5;66;03m# passing one parameter\u001b[39;00m\n\u001b[0;32m      6\u001b[0m \u001b[38;5;129m@dispatch\u001b[39m(\u001b[38;5;28mint\u001b[39m, \u001b[38;5;28mint\u001b[39m)\n\u001b[0;32m      7\u001b[0m \u001b[38;5;28;01mdef\u001b[39;00m \u001b[38;5;21mproduct\u001b[39m(first, second):\n",
      "\u001b[1;31mModuleNotFoundError\u001b[0m: No module named 'multipledispatch'"
     ]
    }
   ],
   "source": [
    "from multipledispatch import dispatch\n",
    "\n",
    "# passing one parameter\n",
    "\n",
    "\n",
    "@dispatch(int, int)\n",
    "def product(first, second):\n",
    "    result = first*second\n",
    "    print(result)\n",
    "\n",
    "# passing two parameters\n",
    "\n",
    "\n",
    "@dispatch(int, int, int)\n",
    "def product(first, second, third):\n",
    "    result = first * second * third\n",
    "    print(result)\n",
    "\n",
    "# you can also pass data type of any value as per requirement\n",
    "\n",
    "\n",
    "@dispatch(float, float, float)\n",
    "def product(first, second, third):\n",
    "    result = first * second * third\n",
    "    print(result)\n",
    "\n",
    "\n",
    "# calling product method with 2 arguments\n",
    "product(2, 3)  # this will give output of 6\n",
    "\n",
    "# calling product method with 3 arguments but all int\n",
    "product(2, 3, 2)  # this will give output of 12\n",
    "\n",
    "# calling product method with 3 arguments but all float\n",
    "product(2.2, 3.4, 2.3)  # this will give output of 17.985999999999997\n"
   ]
  },
  {
   "cell_type": "markdown",
   "metadata": {},
   "source": [
    "* Method overriding is an ability of any object-oriented programming language that allows a subclass or child class to provide a specific implementation of a method that is already provided by one of its super-classes or parent classes. When a method in a subclass has the same name, the same parameters or signature, and same return type(or sub-type) as a method in its super-class, then the method in the subclass is said to override the method in the super-class."
   ]
  },
  {
   "cell_type": "code",
   "execution_count": 13,
   "metadata": {},
   "outputs": [
    {
     "name": "stdout",
     "output_type": "stream",
     "text": [
      "Inside Parent\n",
      "Inside Child\n"
     ]
    }
   ],
   "source": [
    "# Python program to demonstrate \n",
    "# Defining parent class \n",
    "class Parent(): \n",
    "    \n",
    "    # Constructor \n",
    "    def __init__(self): \n",
    "        self.value = \"Inside Parent\"\n",
    "        \n",
    "    # Parent's show method \n",
    "    def show(self): \n",
    "        print(self.value) \n",
    "        \n",
    "# Defining child class \n",
    "class Child(Parent): \n",
    "    \n",
    "    # Constructor \n",
    "    def __init__(self): \n",
    "        super().__init__()  # Call parent constructor\n",
    "        self.value = \"Inside Child\"\n",
    "        \n",
    "    # Child's show method \n",
    "    def show(self): \n",
    "        print(self.value) \n",
    "        \n",
    "# Driver's code \n",
    "obj1 = Parent() \n",
    "obj2 = Child() \n",
    "\n",
    "obj1.show()  # Should print \"Inside Parent\"\n",
    "obj2.show()  # Should print \"Inside Child\"\n"
   ]
  }
 ],
 "metadata": {
  "kernelspec": {
   "display_name": "Python 3",
   "language": "python",
   "name": "python3"
  },
  "language_info": {
   "codemirror_mode": {
    "name": "ipython",
    "version": 3
   },
   "file_extension": ".py",
   "mimetype": "text/x-python",
   "name": "python",
   "nbconvert_exporter": "python",
   "pygments_lexer": "ipython3",
   "version": "3.11.0"
  }
 },
 "nbformat": 4,
 "nbformat_minor": 2
}
